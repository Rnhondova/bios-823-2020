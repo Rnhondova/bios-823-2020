{
 "cells": [
  {
   "cell_type": "markdown",
   "metadata": {},
   "source": [
    "# Syllabus for BIOS-823-2020"
   ]
  },
  {
   "cell_type": "markdown",
   "metadata": {},
   "source": [
    "## Data Science\n",
    "\n",
    "### Data munging\n",
    "\n",
    "- Using `pandas`\n",
    "- Using `modin`\n",
    "- Using `vaex`\n",
    "\n",
    "### Modern API design\n",
    "\n",
    "- JSON\n",
    "- REST\n",
    "- GraphQL\n",
    "- Using FastAPI"
   ]
  },
  {
   "cell_type": "markdown",
   "metadata": {},
   "source": [
    "## Data Management\n",
    "\n",
    "### Common data formats\n",
    "\n",
    "- JSON\n",
    "- XML\n",
    "- HDF\n",
    "- Feather\n",
    "\n",
    "### SQL databases\n",
    "\n",
    "- Concepts\n",
    "- Creation\n",
    "- Manipulation\n",
    "- Queries\n",
    "- Using `sqlite`\n",
    "- SQL and `pandas`\n",
    "\n",
    "### NoSQL databases\n",
    "\n",
    "- Key-value \n",
    "- Document \n",
    "- Graph \n",
    "- Using `neo4j`\n",
    "- Using `redis`\n",
    "- Using `mongodb`"
   ]
  },
  {
   "cell_type": "markdown",
   "metadata": {},
   "source": [
    "## Machine Learning\n",
    "\n",
    "### Understanding ML\n",
    "### Modern ML frameworks"
   ]
  },
  {
   "cell_type": "markdown",
   "metadata": {},
   "source": [
    "## Data Engineering\n",
    "\n",
    "### Distributed computing\n",
    "### Workflow management"
   ]
  },
  {
   "cell_type": "code",
   "execution_count": null,
   "metadata": {},
   "outputs": [],
   "source": []
  }
 ],
 "metadata": {
  "kernelspec": {
   "display_name": "Python 3",
   "language": "python",
   "name": "python3"
  },
  "language_info": {
   "codemirror_mode": {
    "name": "ipython",
    "version": 3
   },
   "file_extension": ".py",
   "mimetype": "text/x-python",
   "name": "python",
   "nbconvert_exporter": "python",
   "pygments_lexer": "ipython3",
   "version": "3.7.7"
  }
 },
 "nbformat": 4,
 "nbformat_minor": 2
}
