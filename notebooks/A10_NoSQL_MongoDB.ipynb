{
 "cells": [
  {
   "cell_type": "markdown",
   "metadata": {},
   "source": [
    "# MongoDB\n",
    "\n",
    "MongoDB is a document database. It stores JSON objects.\n",
    "\n",
    "- [Documentation](https://docs.mongodb.com)\n",
    "- [Query selectors](https://docs.mongodb.com/manual/reference/operator/query/#query-selectors)\n",
    "\n",
    "Note that MongoDB also provides a GUI interface via [MongDB Compasss](https://www.mongodb.com/products/compass) that might be useful when you are getting familiar with MongoDB. However, we will focus only on `pymongo`."
   ]
  },
  {
   "cell_type": "markdown",
   "metadata": {},
   "source": [
    "## Concepts\n",
    "\n",
    "- What a document database is\n",
    "- Why document databases\n",
    "- Collections ~ tables\n",
    "- Documents ~ rows\n",
    "- Joins are possible but more common to embed nested objects\n",
    "- [Basic data manipulation: CRUD](https://docs.mongodb.com/manual/crud/)\n",
    "- Using `find`\n",
    "- Simple summaries\n",
    "- Using the `aggregate` method and setting up pipelines\n",
    "- Geospatial queries\n",
    "- Creating indexes to speed up queries"
   ]
  },
  {
   "cell_type": "code",
   "execution_count": 1,
   "metadata": {},
   "outputs": [],
   "source": [
    "from pymongo import MongoClient, GEOSPHERE\n",
    "from bson.objectid import ObjectId\n",
    "from bson.son import SON"
   ]
  },
  {
   "cell_type": "code",
   "execution_count": 2,
   "metadata": {},
   "outputs": [],
   "source": [
    "import requests\n",
    "from bson import json_util"
   ]
  },
  {
   "cell_type": "code",
   "execution_count": 3,
   "metadata": {},
   "outputs": [],
   "source": [
    "import collections\n",
    "from pathlib import Path"
   ]
  },
  {
   "cell_type": "code",
   "execution_count": 4,
   "metadata": {},
   "outputs": [],
   "source": [
    "import os"
   ]
  },
  {
   "cell_type": "code",
   "execution_count": 5,
   "metadata": {},
   "outputs": [],
   "source": [
    "from pprint import pprint"
   ]
  },
  {
   "cell_type": "markdown",
   "metadata": {},
   "source": [
    "## Set up"
   ]
  },
  {
   "cell_type": "markdown",
   "metadata": {},
   "source": [
    "This connects to the MongoDB daemon"
   ]
  },
  {
   "cell_type": "code",
   "execution_count": 6,
   "metadata": {},
   "outputs": [],
   "source": [
    "client = MongoClient()"
   ]
  },
  {
   "cell_type": "markdown",
   "metadata": {},
   "source": [
    "This specifies the database. It does not matter if it does not exist."
   ]
  },
  {
   "cell_type": "code",
   "execution_count": 7,
   "metadata": {},
   "outputs": [],
   "source": [
    "client.drop_database('starwars')"
   ]
  },
  {
   "cell_type": "code",
   "execution_count": 8,
   "metadata": {},
   "outputs": [],
   "source": [
    "db = client.starwars"
   ]
  },
  {
   "cell_type": "markdown",
   "metadata": {},
   "source": [
    "This specifies a `collection`"
   ]
  },
  {
   "cell_type": "code",
   "execution_count": 9,
   "metadata": {},
   "outputs": [],
   "source": [
    "people = db.people"
   ]
  },
  {
   "cell_type": "markdown",
   "metadata": {},
   "source": [
    "Check what collections are in the database. Note that the `people` collection is only created when the first value is inserted."
   ]
  },
  {
   "cell_type": "code",
   "execution_count": 10,
   "metadata": {},
   "outputs": [
    {
     "data": {
      "text/plain": [
       "[]"
      ]
     },
     "execution_count": 10,
     "metadata": {},
     "output_type": "execute_result"
    }
   ],
   "source": [
    "db.list_collection_names()"
   ]
  },
  {
   "cell_type": "markdown",
   "metadata": {},
   "source": [
    "## Get Data"
   ]
  },
  {
   "cell_type": "code",
   "execution_count": 11,
   "metadata": {},
   "outputs": [],
   "source": [
    "base_url = 'http://swapi.dev/api/'"
   ]
  },
  {
   "cell_type": "code",
   "execution_count": 12,
   "metadata": {},
   "outputs": [],
   "source": [
    "resp = requests.get(os.path.join(base_url, 'people/1'))\n",
    "data = resp.json()"
   ]
  },
  {
   "cell_type": "code",
   "execution_count": 13,
   "metadata": {},
   "outputs": [
    {
     "data": {
      "text/plain": [
       "{'name': 'Luke Skywalker',\n",
       " 'height': '172',\n",
       " 'mass': '77',\n",
       " 'hair_color': 'blond',\n",
       " 'skin_color': 'fair',\n",
       " 'eye_color': 'blue',\n",
       " 'birth_year': '19BBY',\n",
       " 'gender': 'male',\n",
       " 'homeworld': 'http://swapi.dev/api/planets/1/',\n",
       " 'films': ['http://swapi.dev/api/films/1/',\n",
       "  'http://swapi.dev/api/films/2/',\n",
       "  'http://swapi.dev/api/films/3/',\n",
       "  'http://swapi.dev/api/films/6/'],\n",
       " 'species': [],\n",
       " 'vehicles': ['http://swapi.dev/api/vehicles/14/',\n",
       "  'http://swapi.dev/api/vehicles/30/'],\n",
       " 'starships': ['http://swapi.dev/api/starships/12/',\n",
       "  'http://swapi.dev/api/starships/22/'],\n",
       " 'created': '2014-12-09T13:50:51.644000Z',\n",
       " 'edited': '2014-12-20T21:17:56.891000Z',\n",
       " 'url': 'http://swapi.dev/api/people/1/'}"
      ]
     },
     "execution_count": 13,
     "metadata": {},
     "output_type": "execute_result"
    }
   ],
   "source": [
    "data"
   ]
  },
  {
   "cell_type": "markdown",
   "metadata": {},
   "source": [
    "We will fetch details of the homeworld and starships as a nested document."
   ]
  },
  {
   "cell_type": "code",
   "execution_count": 14,
   "metadata": {},
   "outputs": [],
   "source": [
    "def get_nested(d):\n",
    "    d['homeworld']  = requests.get(d['homeworld']).json()\n",
    "    urls = d['starships']\n",
    "    starships = [requests.get(url).json() for url in urls]\n",
    "    d['starships']  = starships\n",
    "    return d"
   ]
  },
  {
   "cell_type": "markdown",
   "metadata": {},
   "source": [
    "We need to convert numbers from strings returned by the REST API"
   ]
  },
  {
   "cell_type": "code",
   "execution_count": 15,
   "metadata": {},
   "outputs": [],
   "source": [
    "def convert_str(x):\n",
    "    try:\n",
    "        return int(x)\n",
    "    except:\n",
    "        return x\n",
    "\n",
    "def to_num(data):\n",
    "    for key in data:\n",
    "        val = data[key]\n",
    "        if isinstance(val, str):\n",
    "            data[key] = convert_str(val)\n",
    "        elif isinstance(val, dict):\n",
    "            for k, v in val.items():\n",
    "                if isinstance(v, str):\n",
    "                    val[k] = convert_str(v)\n",
    "        elif isinstance(val, list):\n",
    "            for i, item in enumerate(val):\n",
    "                if isinstance(item, str):\n",
    "                    data[key][i] = convert_str(item)\n",
    "                elif isinstance(item, dict):\n",
    "                    for k, v in item.items():\n",
    "                        if isinstance(v, str):\n",
    "                            data[key][i][k] = convert_str(v)      \n",
    "    return data"
   ]
  },
  {
   "cell_type": "code",
   "execution_count": 16,
   "metadata": {},
   "outputs": [],
   "source": [
    "data = to_num(get_nested(data))"
   ]
  },
  {
   "cell_type": "code",
   "execution_count": 17,
   "metadata": {},
   "outputs": [
    {
     "data": {
      "text/plain": [
       "{'name': 'Luke Skywalker',\n",
       " 'height': 172,\n",
       " 'mass': 77,\n",
       " 'hair_color': 'blond',\n",
       " 'skin_color': 'fair',\n",
       " 'eye_color': 'blue',\n",
       " 'birth_year': '19BBY',\n",
       " 'gender': 'male',\n",
       " 'homeworld': {'name': 'Tatooine',\n",
       "  'rotation_period': 23,\n",
       "  'orbital_period': 304,\n",
       "  'diameter': 10465,\n",
       "  'climate': 'arid',\n",
       "  'gravity': '1 standard',\n",
       "  'terrain': 'desert',\n",
       "  'surface_water': 1,\n",
       "  'population': 200000,\n",
       "  'residents': ['http://swapi.dev/api/people/1/',\n",
       "   'http://swapi.dev/api/people/2/',\n",
       "   'http://swapi.dev/api/people/4/',\n",
       "   'http://swapi.dev/api/people/6/',\n",
       "   'http://swapi.dev/api/people/7/',\n",
       "   'http://swapi.dev/api/people/8/',\n",
       "   'http://swapi.dev/api/people/9/',\n",
       "   'http://swapi.dev/api/people/11/',\n",
       "   'http://swapi.dev/api/people/43/',\n",
       "   'http://swapi.dev/api/people/62/'],\n",
       "  'films': ['http://swapi.dev/api/films/1/',\n",
       "   'http://swapi.dev/api/films/3/',\n",
       "   'http://swapi.dev/api/films/4/',\n",
       "   'http://swapi.dev/api/films/5/',\n",
       "   'http://swapi.dev/api/films/6/'],\n",
       "  'created': '2014-12-09T13:50:49.641000Z',\n",
       "  'edited': '2014-12-20T20:58:18.411000Z',\n",
       "  'url': 'http://swapi.dev/api/planets/1/'},\n",
       " 'films': ['http://swapi.dev/api/films/1/',\n",
       "  'http://swapi.dev/api/films/2/',\n",
       "  'http://swapi.dev/api/films/3/',\n",
       "  'http://swapi.dev/api/films/6/'],\n",
       " 'species': [],\n",
       " 'vehicles': ['http://swapi.dev/api/vehicles/14/',\n",
       "  'http://swapi.dev/api/vehicles/30/'],\n",
       " 'starships': [{'name': 'X-wing',\n",
       "   'model': 'T-65 X-wing',\n",
       "   'manufacturer': 'Incom Corporation',\n",
       "   'cost_in_credits': 149999,\n",
       "   'length': '12.5',\n",
       "   'max_atmosphering_speed': 1050,\n",
       "   'crew': 1,\n",
       "   'passengers': 0,\n",
       "   'cargo_capacity': 110,\n",
       "   'consumables': '1 week',\n",
       "   'hyperdrive_rating': '1.0',\n",
       "   'MGLT': 100,\n",
       "   'starship_class': 'Starfighter',\n",
       "   'pilots': ['http://swapi.dev/api/people/1/',\n",
       "    'http://swapi.dev/api/people/9/',\n",
       "    'http://swapi.dev/api/people/18/',\n",
       "    'http://swapi.dev/api/people/19/'],\n",
       "   'films': ['http://swapi.dev/api/films/1/',\n",
       "    'http://swapi.dev/api/films/2/',\n",
       "    'http://swapi.dev/api/films/3/'],\n",
       "   'created': '2014-12-12T11:19:05.340000Z',\n",
       "   'edited': '2014-12-20T21:23:49.886000Z',\n",
       "   'url': 'http://swapi.dev/api/starships/12/'},\n",
       "  {'name': 'Imperial shuttle',\n",
       "   'model': 'Lambda-class T-4a shuttle',\n",
       "   'manufacturer': 'Sienar Fleet Systems',\n",
       "   'cost_in_credits': 240000,\n",
       "   'length': 20,\n",
       "   'max_atmosphering_speed': 850,\n",
       "   'crew': 6,\n",
       "   'passengers': 20,\n",
       "   'cargo_capacity': 80000,\n",
       "   'consumables': '2 months',\n",
       "   'hyperdrive_rating': '1.0',\n",
       "   'MGLT': 50,\n",
       "   'starship_class': 'Armed government transport',\n",
       "   'pilots': ['http://swapi.dev/api/people/1/',\n",
       "    'http://swapi.dev/api/people/13/',\n",
       "    'http://swapi.dev/api/people/14/'],\n",
       "   'films': ['http://swapi.dev/api/films/2/', 'http://swapi.dev/api/films/3/'],\n",
       "   'created': '2014-12-15T13:04:47.235000Z',\n",
       "   'edited': '2014-12-20T21:23:49.900000Z',\n",
       "   'url': 'http://swapi.dev/api/starships/22/'}],\n",
       " 'created': '2014-12-09T13:50:51.644000Z',\n",
       " 'edited': '2014-12-20T21:17:56.891000Z',\n",
       " 'url': 'http://swapi.dev/api/people/1/'}"
      ]
     },
     "execution_count": 17,
     "metadata": {},
     "output_type": "execute_result"
    }
   ],
   "source": [
    "data"
   ]
  },
  {
   "cell_type": "markdown",
   "metadata": {},
   "source": [
    "## Insertion"
   ]
  },
  {
   "cell_type": "markdown",
   "metadata": {},
   "source": [
    "### Single inserts"
   ]
  },
  {
   "cell_type": "code",
   "execution_count": 18,
   "metadata": {},
   "outputs": [],
   "source": [
    "result = people.insert_one(data)"
   ]
  },
  {
   "cell_type": "code",
   "execution_count": 19,
   "metadata": {},
   "outputs": [
    {
     "data": {
      "text/plain": [
       "['people']"
      ]
     },
     "execution_count": 19,
     "metadata": {},
     "output_type": "execute_result"
    }
   ],
   "source": [
    "db.list_collection_names()"
   ]
  },
  {
   "cell_type": "markdown",
   "metadata": {},
   "source": [
    "### Bulk inserts"
   ]
  },
  {
   "cell_type": "markdown",
   "metadata": {},
   "source": [
    "We load some previously retrieved values from file to avoid hitting the SWAPI server repeatedly."
   ]
  },
  {
   "cell_type": "code",
   "execution_count": 20,
   "metadata": {},
   "outputs": [],
   "source": [
    "import pickle\n",
    "\n",
    "with open('sw.pickle', 'rb') as f:\n",
    "    xs = pickle.load(f)"
   ]
  },
  {
   "cell_type": "code",
   "execution_count": 21,
   "metadata": {
    "scrolled": false
   },
   "outputs": [],
   "source": [
    "result = people.insert_many(xs)"
   ]
  },
  {
   "cell_type": "code",
   "execution_count": 22,
   "metadata": {},
   "outputs": [
    {
     "data": {
      "text/plain": [
       "[ObjectId('5f5f8fa42324e433baa62a71'),\n",
       " ObjectId('5f5f8fa42324e433baa62a72'),\n",
       " ObjectId('5f5f8fa42324e433baa62a73'),\n",
       " ObjectId('5f5f8fa42324e433baa62a74'),\n",
       " ObjectId('5f5f8fa42324e433baa62a75'),\n",
       " ObjectId('5f5f8fa42324e433baa62a76'),\n",
       " ObjectId('5f5f8fa42324e433baa62a77'),\n",
       " ObjectId('5f5f8fa42324e433baa62a78'),\n",
       " ObjectId('5f5f8fa42324e433baa62a79')]"
      ]
     },
     "execution_count": 22,
     "metadata": {},
     "output_type": "execute_result"
    }
   ],
   "source": [
    "result.inserted_ids"
   ]
  },
  {
   "cell_type": "markdown",
   "metadata": {},
   "source": [
    "## Queries"
   ]
  },
  {
   "cell_type": "code",
   "execution_count": 23,
   "metadata": {},
   "outputs": [
    {
     "data": {
      "text/plain": [
       "{'_id': ObjectId('5f5f8fa42324e433baa62a70'),\n",
       " 'name': 'Luke Skywalker',\n",
       " 'hair_color': 'blond',\n",
       " 'skin_color': 'fair',\n",
       " 'eye_color': 'blue'}"
      ]
     },
     "execution_count": 23,
     "metadata": {},
     "output_type": "execute_result"
    }
   ],
   "source": [
    "people.find_one(\n",
    "    # search criteria\n",
    "    {'name': 'Luke Skywalker'}, \n",
    "    # values to return\n",
    "    {'name': True, \n",
    "     'hair_color': True,\n",
    "     'skin_color': True, \n",
    "     'eye_color': True\n",
    "    } \n",
    ")"
   ]
  },
  {
   "cell_type": "code",
   "execution_count": 24,
   "metadata": {},
   "outputs": [
    {
     "name": "stdout",
     "output_type": "stream",
     "text": [
      "{'_id': ObjectId('5f5f8fa42324e433baa62a70'), 'name': 'Luke Skywalker', 'hair_color': 'blond', 'skin_color': 'fair', 'eye_color': 'blue'}\n",
      "{'_id': ObjectId('5f5f8fa42324e433baa62a71'), 'name': 'C-3PO', 'hair_color': 'n/a', 'skin_color': 'gold', 'eye_color': 'yellow'}\n",
      "{'_id': ObjectId('5f5f8fa42324e433baa62a72'), 'name': 'R2-D2', 'hair_color': 'n/a', 'skin_color': 'white, blue', 'eye_color': 'red'}\n",
      "{'_id': ObjectId('5f5f8fa42324e433baa62a73'), 'name': 'Darth Vader', 'hair_color': 'none', 'skin_color': 'white', 'eye_color': 'yellow'}\n",
      "{'_id': ObjectId('5f5f8fa42324e433baa62a74'), 'name': 'Leia Organa', 'hair_color': 'brown', 'skin_color': 'light', 'eye_color': 'brown'}\n",
      "{'_id': ObjectId('5f5f8fa42324e433baa62a75'), 'name': 'Owen Lars', 'hair_color': 'brown, grey', 'skin_color': 'light', 'eye_color': 'blue'}\n",
      "{'_id': ObjectId('5f5f8fa42324e433baa62a76'), 'name': 'Beru Whitesun lars', 'hair_color': 'brown', 'skin_color': 'light', 'eye_color': 'blue'}\n",
      "{'_id': ObjectId('5f5f8fa42324e433baa62a77'), 'name': 'R5-D4', 'hair_color': 'n/a', 'skin_color': 'white, red', 'eye_color': 'red'}\n",
      "{'_id': ObjectId('5f5f8fa42324e433baa62a78'), 'name': 'Biggs Darklighter', 'hair_color': 'black', 'skin_color': 'light', 'eye_color': 'brown'}\n",
      "{'_id': ObjectId('5f5f8fa42324e433baa62a79'), 'name': 'Obi-Wan Kenobi', 'hair_color': 'auburn, white', 'skin_color': 'fair', 'eye_color': 'blue-gray'}\n"
     ]
    }
   ],
   "source": [
    "for p in people.find(\n",
    "    # search criteria\n",
    "    {}, \n",
    "    # values to return\n",
    "    {'name': True, \n",
    "     'hair_color': True,\n",
    "     'skin_color': True, \n",
    "     'eye_color': True\n",
    "    } \n",
    "):\n",
    "    print(p)"
   ]
  },
  {
   "cell_type": "markdown",
   "metadata": {},
   "source": [
    "### Using object ID\n",
    "\n",
    "Note that ObjectID is NOT a string. You must convert a string to ObjectID before use.\n",
    "\n",
    "From the official docs, the ObjectID consists of\n",
    "\n",
    "- a 4-byte value representing the seconds since the Unix epoch,\n",
    "- a 5-byte random value, and\n",
    "- a 3-byte counter, starting with a random value.\n",
    "\n",
    "In particular, note that sorting by ObjectIDs generated across different machines will give an approximate time ordering."
   ]
  },
  {
   "cell_type": "code",
   "execution_count": 25,
   "metadata": {},
   "outputs": [
    {
     "data": {
      "text/plain": [
       "ObjectId('5f5f8fa42324e433baa62a71')"
      ]
     },
     "execution_count": 25,
     "metadata": {},
     "output_type": "execute_result"
    }
   ],
   "source": [
    "result.inserted_ids[0]"
   ]
  },
  {
   "cell_type": "code",
   "execution_count": 26,
   "metadata": {},
   "outputs": [
    {
     "data": {
      "text/plain": [
       "{'_id': ObjectId('5f5f8fa42324e433baa62a71'),\n",
       " 'name': 'C-3PO',\n",
       " 'hair_color': 'n/a',\n",
       " 'skin_color': 'gold',\n",
       " 'eye_color': 'yellow'}"
      ]
     },
     "execution_count": 26,
     "metadata": {},
     "output_type": "execute_result"
    }
   ],
   "source": [
    "people.find_one(\n",
    "    result.inserted_ids[0],\n",
    "    {'name': True, 'hair_color': True, 'skin_color': True, 'eye_color': True}\n",
    ")"
   ]
  },
  {
   "cell_type": "markdown",
   "metadata": {},
   "source": [
    "### Bulk queries"
   ]
  },
  {
   "cell_type": "markdown",
   "metadata": {},
   "source": [
    "The general `find` method returns a cursor, where each entry is a dictionary."
   ]
  },
  {
   "cell_type": "code",
   "execution_count": 27,
   "metadata": {},
   "outputs": [
    {
     "name": "stdout",
     "output_type": "stream",
     "text": [
      "Luke Skywalker\n",
      "Darth Vader\n",
      "Owen Lars\n",
      "Biggs Darklighter\n",
      "Obi-Wan Kenobi\n"
     ]
    }
   ],
   "source": [
    "for person in people.find(\n",
    "    {'gender': 'male'}\n",
    "):\n",
    "    print(person['name'])"
   ]
  },
  {
   "cell_type": "markdown",
   "metadata": {},
   "source": [
    "You can also explicitly define the projection."
   ]
  },
  {
   "cell_type": "code",
   "execution_count": 28,
   "metadata": {},
   "outputs": [
    {
     "name": "stdout",
     "output_type": "stream",
     "text": [
      "{'gender': 'male', 'name': 'Luke Skywalker'}\n",
      "{'gender': 'male', 'name': 'Darth Vader'}\n",
      "{'gender': 'male', 'name': 'Owen Lars'}\n",
      "{'gender': 'male', 'name': 'Biggs Darklighter'}\n",
      "{'gender': 'male', 'name': 'Obi-Wan Kenobi'}\n"
     ]
    }
   ],
   "source": [
    "for x in people.find(\n",
    "    {'gender': 'male'},             \n",
    "    {\n",
    "        '_id': False,\n",
    "        'name': True,\n",
    "        'gender': True\n",
    "    }\n",
    "): \n",
    "    pprint(x)"
   ]
  },
  {
   "cell_type": "markdown",
   "metadata": {},
   "source": [
    "#### Using regex search"
   ]
  },
  {
   "cell_type": "code",
   "execution_count": 29,
   "metadata": {},
   "outputs": [
    {
     "name": "stdout",
     "output_type": "stream",
     "text": [
      "{'gender': 'male', 'name': 'Luke Skywalker'}\n",
      "{'gender': 'female', 'name': 'Leia Organa'}\n"
     ]
    }
   ],
   "source": [
    "for x in people.find(\n",
    "    {\n",
    "        'name': {'$regex': '^L'},\n",
    "    },\n",
    "    {\n",
    "        'name': True, \n",
    "        'gender': True, \n",
    "        '_id': False\n",
    "    }\n",
    "):\n",
    "    pprint(x)"
   ]
  },
  {
   "cell_type": "markdown",
   "metadata": {},
   "source": [
    "The above example uses the JavaScript regular expression syntax. You can also use Python regular expressions with `ppymongo`."
   ]
  },
  {
   "cell_type": "code",
   "execution_count": 30,
   "metadata": {},
   "outputs": [],
   "source": [
    "import re\n",
    "\n",
    "name_pat = re.compile(r'^l', re.IGNORECASE)"
   ]
  },
  {
   "cell_type": "code",
   "execution_count": 31,
   "metadata": {},
   "outputs": [
    {
     "name": "stdout",
     "output_type": "stream",
     "text": [
      "{'gender': 'male', 'name': 'Luke Skywalker'}\n",
      "{'gender': 'female', 'name': 'Leia Organa'}\n"
     ]
    }
   ],
   "source": [
    "for x in people.find(\n",
    "    {\n",
    "        'name': name_pat,\n",
    "    },\n",
    "    {\n",
    "        'name': True,\n",
    "        'gender': True,\n",
    "        '_id': False\n",
    "    }\n",
    "):\n",
    "    pprint(x)"
   ]
  },
  {
   "cell_type": "markdown",
   "metadata": {},
   "source": [
    "#### Using relational operators"
   ]
  },
  {
   "cell_type": "code",
   "execution_count": 32,
   "metadata": {},
   "outputs": [
    {
     "name": "stdout",
     "output_type": "stream",
     "text": [
      "{'mass': 77, 'name': 'Luke Skywalker'}\n",
      "{'mass': 75, 'name': 'C-3PO'}\n",
      "{'mass': 32, 'name': 'R2-D2'}\n",
      "{'mass': 49, 'name': 'Leia Organa'}\n",
      "{'mass': 75, 'name': 'Beru Whitesun lars'}\n",
      "{'mass': 32, 'name': 'R5-D4'}\n",
      "{'mass': 84, 'name': 'Biggs Darklighter'}\n",
      "{'mass': 77, 'name': 'Obi-Wan Kenobi'}\n"
     ]
    }
   ],
   "source": [
    "for x in people.find(\n",
    "    {\n",
    "        'mass': {'$lt': 100},\n",
    "    },\n",
    "    {\n",
    "        'name': True, \n",
    "        'mass': True, \n",
    "        '_id': False\n",
    "    }\n",
    "):\n",
    "    pprint(x)"
   ]
  },
  {
   "cell_type": "code",
   "execution_count": 33,
   "metadata": {},
   "outputs": [],
   "source": [
    "mass_range = {'$lt': 100, '$gt': 50}"
   ]
  },
  {
   "cell_type": "code",
   "execution_count": 34,
   "metadata": {},
   "outputs": [
    {
     "name": "stdout",
     "output_type": "stream",
     "text": [
      "{'mass': 77, 'name': 'Luke Skywalker'}\n",
      "{'mass': 75, 'name': 'C-3PO'}\n",
      "{'mass': 75, 'name': 'Beru Whitesun lars'}\n",
      "{'mass': 84, 'name': 'Biggs Darklighter'}\n",
      "{'mass': 77, 'name': 'Obi-Wan Kenobi'}\n"
     ]
    }
   ],
   "source": [
    "for x in people.find(\n",
    "    {\n",
    "        'mass': mass_range,\n",
    "    },\n",
    "    {\n",
    "        'name': True, \n",
    "        'mass': True,\n",
    "        '_id': False\n",
    "    }\n",
    "):\n",
    "    pprint(x)"
   ]
  },
  {
   "cell_type": "markdown",
   "metadata": {},
   "source": [
    "#### Nested search\n",
    "\n",
    "Nowadays, many relational databases allow you to store data as JSON columns.  However, document databases allow the convenience of nested searches."
   ]
  },
  {
   "cell_type": "code",
   "execution_count": 35,
   "metadata": {},
   "outputs": [
    {
     "name": "stdout",
     "output_type": "stream",
     "text": [
      "{'name': 'Luke Skywalker', 'species': []}\n",
      "{'name': 'C-3PO', 'species': []}\n",
      "{'name': 'Darth Vader', 'species': []}\n",
      "{'name': 'Owen Lars', 'species': []}\n",
      "{'name': 'Beru Whitesun lars', 'species': []}\n",
      "{'name': 'R5-D4', 'species': []}\n",
      "{'name': 'Biggs Darklighter', 'species': []}\n"
     ]
    }
   ],
   "source": [
    "for x in people.find(\n",
    "    {\n",
    "        'homeworld.name': 'Tatooine',\n",
    "    },\n",
    "    {\n",
    "        'name': True, \n",
    "        'species.name': True, \n",
    "        '_id': False\n",
    "    }\n",
    "):\n",
    "    pprint(x)"
   ]
  },
  {
   "cell_type": "markdown",
   "metadata": {},
   "source": [
    "#### Matching multiple criteria\n",
    "\n",
    "This is quite subtle. By default, when matching on multiple criteria, the search is across items. Here `Obi-Wan Kenobi` is returned because each of the 3 conditions is matched by one or more of his starships, even though none of his starships match all 3 criteria."
   ]
  },
  {
   "cell_type": "code",
   "execution_count": 36,
   "metadata": {
    "scrolled": false
   },
   "outputs": [
    {
     "name": "stdout",
     "output_type": "stream",
     "text": [
      "{'starships': [{'MGLT': 'unknown',\n",
      "                'cargo_capacity': 60,\n",
      "                'consumables': '7 days',\n",
      "                'cost_in_credits': 180000,\n",
      "                'created': '2014-12-20T17:35:23.906000Z',\n",
      "                'crew': 1,\n",
      "                'edited': '2014-12-20T21:23:49.930000Z',\n",
      "                'films': ['http://swapi.dev/api/films/5/',\n",
      "                          'http://swapi.dev/api/films/6/'],\n",
      "                'hyperdrive_rating': '1.0',\n",
      "                'length': 8,\n",
      "                'manufacturer': 'Kuat Systems Engineering',\n",
      "                'max_atmosphering_speed': 1150,\n",
      "                'model': 'Delta-7 Aethersprite-class interceptor',\n",
      "                'name': 'Jedi starfighter',\n",
      "                'passengers': 0,\n",
      "                'pilots': ['http://swapi.dev/api/people/10/',\n",
      "                           'http://swapi.dev/api/people/58/'],\n",
      "                'starship_class': 'Starfighter',\n",
      "                'url': 'http://swapi.dev/api/starships/48/'},\n",
      "               {'MGLT': 'unknown',\n",
      "                'cargo_capacity': 50000000,\n",
      "                'consumables': '4 years',\n",
      "                'cost_in_credits': 125000000,\n",
      "                'created': '2014-12-20T19:40:21.902000Z',\n",
      "                'crew': 600,\n",
      "                'edited': '2014-12-20T21:23:49.941000Z',\n",
      "                'films': ['http://swapi.dev/api/films/6/'],\n",
      "                'hyperdrive_rating': '1.5',\n",
      "                'length': 1088,\n",
      "                'manufacturer': 'Rendili StarDrive, Free Dac Volunteers '\n",
      "                                'Engineering corps.',\n",
      "                'max_atmosphering_speed': 1050,\n",
      "                'model': 'Providence-class carrier/destroyer',\n",
      "                'name': 'Trade Federation cruiser',\n",
      "                'passengers': 48247,\n",
      "                'pilots': ['http://swapi.dev/api/people/10/',\n",
      "                           'http://swapi.dev/api/people/11/'],\n",
      "                'starship_class': 'capital ship',\n",
      "                'url': 'http://swapi.dev/api/starships/59/'},\n",
      "               {'MGLT': 'unknown',\n",
      "                'cargo_capacity': 'unknown',\n",
      "                'consumables': 'unknown',\n",
      "                'cost_in_credits': 'unknown',\n",
      "                'created': '2014-12-20T19:55:15.396000Z',\n",
      "                'crew': 3,\n",
      "                'edited': '2014-12-20T21:23:49.948000Z',\n",
      "                'films': ['http://swapi.dev/api/films/6/'],\n",
      "                'hyperdrive_rating': '0.5',\n",
      "                'length': '29.2',\n",
      "                'manufacturer': 'Theed Palace Space Vessel Engineering '\n",
      "                                'Corps/Nubia Star Drives, Incorporated',\n",
      "                'max_atmosphering_speed': 1050,\n",
      "                'model': 'J-type star skiff',\n",
      "                'name': 'Naboo star skiff',\n",
      "                'passengers': 3,\n",
      "                'pilots': ['http://swapi.dev/api/people/10/',\n",
      "                           'http://swapi.dev/api/people/35/'],\n",
      "                'starship_class': 'yacht',\n",
      "                'url': 'http://swapi.dev/api/starships/64/'},\n",
      "               {'MGLT': 'unknown',\n",
      "                'cargo_capacity': 60,\n",
      "                'consumables': '2 days',\n",
      "                'cost_in_credits': 320000,\n",
      "                'created': '2014-12-20T19:56:57.468000Z',\n",
      "                'crew': 1,\n",
      "                'edited': '2014-12-20T21:23:49.951000Z',\n",
      "                'films': ['http://swapi.dev/api/films/6/'],\n",
      "                'hyperdrive_rating': '1.0',\n",
      "                'length': '5.47',\n",
      "                'manufacturer': 'Kuat Systems Engineering',\n",
      "                'max_atmosphering_speed': 1500,\n",
      "                'model': 'Eta-2 Actis-class light interceptor',\n",
      "                'name': 'Jedi Interceptor',\n",
      "                'passengers': 0,\n",
      "                'pilots': ['http://swapi.dev/api/people/10/',\n",
      "                           'http://swapi.dev/api/people/11/'],\n",
      "                'starship_class': 'starfighter',\n",
      "                'url': 'http://swapi.dev/api/starships/65/'},\n",
      "               {'MGLT': 'unknown',\n",
      "                'cargo_capacity': 140,\n",
      "                'consumables': '7 days',\n",
      "                'cost_in_credits': 168000,\n",
      "                'created': '2014-12-20T20:38:05.031000Z',\n",
      "                'crew': 1,\n",
      "                'edited': '2014-12-20T21:23:49.959000Z',\n",
      "                'films': ['http://swapi.dev/api/films/6/'],\n",
      "                'hyperdrive_rating': 6,\n",
      "                'length': '6.71',\n",
      "                'manufacturer': 'Feethan Ottraw Scalable Assemblies',\n",
      "                'max_atmosphering_speed': 1100,\n",
      "                'model': 'Belbullab-22 starfighter',\n",
      "                'name': 'Belbullab-22 starfighter',\n",
      "                'passengers': 0,\n",
      "                'pilots': ['http://swapi.dev/api/people/10/',\n",
      "                           'http://swapi.dev/api/people/79/'],\n",
      "                'starship_class': 'starfighter',\n",
      "                'url': 'http://swapi.dev/api/starships/74/'}]}\n"
     ]
    }
   ],
   "source": [
    "for x in people.find(\n",
    "    {'name': 'Obi-Wan Kenobi'},\n",
    "    {\n",
    "        'starships': True,\n",
    "        '_id': False\n",
    "    }\n",
    "):\n",
    "    pprint(x)"
   ]
  },
  {
   "cell_type": "code",
   "execution_count": 37,
   "metadata": {},
   "outputs": [
    {
     "name": "stdout",
     "output_type": "stream",
     "text": [
      "{'name': 'Luke Skywalker',\n",
      " 'starships': [{'cost_in_credits': 149999,\n",
      "                'max_atmosphering_speed': 1050,\n",
      "                'passengers': 0},\n",
      "               {'cost_in_credits': 240000,\n",
      "                'max_atmosphering_speed': 850,\n",
      "                'passengers': 20}]}\n",
      "{'name': 'Obi-Wan Kenobi',\n",
      " 'starships': [{'cost_in_credits': 180000,\n",
      "                'max_atmosphering_speed': 1150,\n",
      "                'passengers': 0},\n",
      "               {'cost_in_credits': 125000000,\n",
      "                'max_atmosphering_speed': 1050,\n",
      "                'passengers': 48247},\n",
      "               {'cost_in_credits': 'unknown',\n",
      "                'max_atmosphering_speed': 1050,\n",
      "                'passengers': 3},\n",
      "               {'cost_in_credits': 320000,\n",
      "                'max_atmosphering_speed': 1500,\n",
      "                'passengers': 0},\n",
      "               {'cost_in_credits': 168000,\n",
      "                'max_atmosphering_speed': 1100,\n",
      "                'passengers': 0}]}\n"
     ]
    }
   ],
   "source": [
    "for x in people.find(\n",
    "    {\n",
    "        'starships.cost_in_credits': {'$lt': 250000},\n",
    "        'starships.max_atmosphering_speed': {'$gt': 500},\n",
    "        'starships.passengers': {'$gt': 0}\n",
    "    },\n",
    "    {\n",
    "        'name': True, \n",
    "        'starship.name': True, \n",
    "        'starships.max_atmosphering_speed': True,\n",
    "        'starships.passengers': True,\n",
    "        'starships.cost_in_credits': True,     \n",
    "        '_id': False\n",
    "    }\n",
    "):\n",
    "    pprint(x)"
   ]
  },
  {
   "cell_type": "markdown",
   "metadata": {},
   "source": [
    "#### Matching multiple criteria simultaneously\n",
    "\n",
    "To find someone with a starship that matches all 3 conditions, we need to use the `elemMatch` operator."
   ]
  },
  {
   "cell_type": "code",
   "execution_count": 38,
   "metadata": {},
   "outputs": [
    {
     "name": "stdout",
     "output_type": "stream",
     "text": [
      "{'name': 'Luke Skywalker',\n",
      " 'starships': [{'cost_in_credits': 149999,\n",
      "                'max_atmosphering_speed': 1050,\n",
      "                'passengers': 0},\n",
      "               {'cost_in_credits': 240000,\n",
      "                'max_atmosphering_speed': 850,\n",
      "                'passengers': 20}]}\n"
     ]
    }
   ],
   "source": [
    "for x in people.find(\n",
    "    {\n",
    "        'starships': {\n",
    "            '$elemMatch': { \n",
    "                'cost_in_credits': {'$lt': 250000},\n",
    "                'max_atmosphering_speed': {'$gt': 500},\n",
    "                'passengers': {'$gt': 1}\n",
    "            }\n",
    "        }\n",
    "    },\n",
    "    {\n",
    "        'name': True, \n",
    "        'starship.name': True, \n",
    "        'starships.max_atmosphering_speed': True,\n",
    "        'starships.passengers': True,\n",
    "        'starships.cost_in_credits': True,     \n",
    "        '_id': False\n",
    "    }\n",
    "):\n",
    "    pprint(x)"
   ]
  },
  {
   "cell_type": "markdown",
   "metadata": {},
   "source": [
    "## Aggregate Queries"
   ]
  },
  {
   "cell_type": "code",
   "execution_count": 39,
   "metadata": {},
   "outputs": [
    {
     "data": {
      "text/plain": [
       "7"
      ]
     },
     "execution_count": 39,
     "metadata": {},
     "output_type": "execute_result"
    }
   ],
   "source": [
    "people.count_documents({'homeworld.name': 'Tatooine'})"
   ]
  },
  {
   "cell_type": "code",
   "execution_count": 40,
   "metadata": {},
   "outputs": [
    {
     "data": {
      "text/plain": [
       "['Alderaan', 'Naboo', 'Stewjon', 'Tatooine']"
      ]
     },
     "execution_count": 40,
     "metadata": {},
     "output_type": "execute_result"
    }
   ],
   "source": [
    "people.distinct('homeworld.name')"
   ]
  },
  {
   "cell_type": "markdown",
   "metadata": {},
   "source": [
    "### Using aggregate\n",
    "\n",
    "The `aggregate` function runs a pipeline of commands, and uses the `$group` operator to summarize results. Within the aggregate method, you assemble a **pipeline** of operations that is executed atomically."
   ]
  },
  {
   "cell_type": "markdown",
   "metadata": {},
   "source": [
    "Filter and count"
   ]
  },
  {
   "cell_type": "code",
   "execution_count": 41,
   "metadata": {},
   "outputs": [],
   "source": [
    "cmds = [\n",
    "     {'$match': {'homeworld.name': 'Tatooine'}},\n",
    "     {'$group': {'_id': '$homeworld.name', \n",
    "                 'count': {'$sum': 1}}},\n",
    "]"
   ]
  },
  {
   "cell_type": "code",
   "execution_count": 42,
   "metadata": {},
   "outputs": [
    {
     "name": "stdout",
     "output_type": "stream",
     "text": [
      "{'_id': 'Tatooine', 'count': 7}\n"
     ]
    }
   ],
   "source": [
    "for p in people.aggregate(cmds):\n",
    "    pprint(p)"
   ]
  },
  {
   "cell_type": "markdown",
   "metadata": {},
   "source": [
    "Filter and find total mass"
   ]
  },
  {
   "cell_type": "code",
   "execution_count": 43,
   "metadata": {},
   "outputs": [],
   "source": [
    "cmds = [\n",
    "     {'$match': {'homeworld.name': 'Tatooine'}},\n",
    "     {'$group': {'_id': '$homeworld.name', \n",
    "                 'total_mass': {'$sum': '$mass'}}},\n",
    "]"
   ]
  },
  {
   "cell_type": "code",
   "execution_count": 44,
   "metadata": {},
   "outputs": [
    {
     "name": "stdout",
     "output_type": "stream",
     "text": [
      "{'_id': 'Tatooine', 'total_mass': 599}\n"
     ]
    }
   ],
   "source": [
    "for p in people.aggregate(cmds):\n",
    "    pprint(p)"
   ]
  },
  {
   "cell_type": "markdown",
   "metadata": {},
   "source": [
    "Total mass of all members of a planet"
   ]
  },
  {
   "cell_type": "code",
   "execution_count": 45,
   "metadata": {},
   "outputs": [],
   "source": [
    "cmds = [\n",
    "     {'$group': {'_id': '$homeworld.name', \n",
    "                 'total_mass': {'$sum': '$mass'}}},\n",
    "]"
   ]
  },
  {
   "cell_type": "code",
   "execution_count": 46,
   "metadata": {},
   "outputs": [
    {
     "name": "stdout",
     "output_type": "stream",
     "text": [
      "{'_id': 'Tatooine', 'total_mass': 599}\n",
      "{'_id': 'Naboo', 'total_mass': 32}\n",
      "{'_id': 'Stewjon', 'total_mass': 77}\n",
      "{'_id': 'Alderaan', 'total_mass': 49}\n"
     ]
    }
   ],
   "source": [
    "for p in people.aggregate(cmds):\n",
    "    pprint(p)"
   ]
  },
  {
   "cell_type": "markdown",
   "metadata": {},
   "source": [
    "Filter, project, group by, sorting."
   ]
  },
  {
   "cell_type": "code",
   "execution_count": 47,
   "metadata": {},
   "outputs": [],
   "source": [
    "cmds = [\n",
    "     {\n",
    "         '$match': {\n",
    "             'mass': {\n",
    "                 '$lt': 100\n",
    "                     }\n",
    "         },\n",
    "     },\n",
    "     {\n",
    "         '$group': {\n",
    "             '_id': '$homeworld.name',\n",
    "             'total_mass': {'$sum': '$mass'},\n",
    "             'avg_mass': {'$avg': '$mass'}\n",
    "         },\n",
    "     },\n",
    "     {\n",
    "        '$sort': { \n",
    "            'avg_mass': -1\n",
    "        }\n",
    "     }\n",
    "]"
   ]
  },
  {
   "cell_type": "code",
   "execution_count": 48,
   "metadata": {},
   "outputs": [
    {
     "name": "stdout",
     "output_type": "stream",
     "text": [
      "{'_id': 'Stewjon', 'avg_mass': 77.0, 'total_mass': 77}\n",
      "{'_id': 'Tatooine', 'avg_mass': 68.6, 'total_mass': 343}\n",
      "{'_id': 'Alderaan', 'avg_mass': 49.0, 'total_mass': 49}\n",
      "{'_id': 'Naboo', 'avg_mass': 32.0, 'total_mass': 32}\n"
     ]
    }
   ],
   "source": [
    "for p in people.aggregate(cmds):\n",
    "    pprint(p)"
   ]
  },
  {
   "cell_type": "markdown",
   "metadata": {},
   "source": [
    "#### SQL equivalent (approximate)\n",
    "\n",
    "```sql\n",
    "SELECT species.name, AVG(mass) AS avg_mass, SUM(mass) AS total_mass\n",
    "WHERE mass < 100\n",
    "FROM people\n",
    "JOIN species\n",
    "ON people.species_id = species.species_id\n",
    "GROUP BY species.name\n",
    "ORDER BY avg_mass\n",
    "```"
   ]
  },
  {
   "cell_type": "markdown",
   "metadata": {},
   "source": [
    "### Using MapReduce\n",
    "\n",
    "With `MapReduce` you get the full power of JavaScript, but it is more complex and often less efficient. You should use `aggregate` in preference to `map_reduce` in most cases.\n",
    "\n",
    "- In the map stage, you create a (key, value) pair\n",
    "- In the reduce stage, you perform a reduction (e.g. sum) of the values associated with each key"
   ]
  },
  {
   "cell_type": "code",
   "execution_count": 49,
   "metadata": {},
   "outputs": [],
   "source": [
    "from bson.code import Code"
   ]
  },
  {
   "cell_type": "markdown",
   "metadata": {},
   "source": [
    "Count the number by eye_color."
   ]
  },
  {
   "cell_type": "code",
   "execution_count": 50,
   "metadata": {
    "scrolled": false
   },
   "outputs": [],
   "source": [
    "mapper = Code('''\n",
    "function() {\n",
    "    emit(this.eye_color, 1);\n",
    "}\n",
    "''')\n",
    "\n",
    "reducer = Code('''\n",
    "function (key, values) {\n",
    "    var total = 0;\n",
    "    for (var i = 0; i < values.length; i++) {\n",
    "        total += values[i];\n",
    "    }\n",
    "    return total;\n",
    "}\n",
    "''')\n",
    "\n",
    "result = people.map_reduce(\n",
    "    mapper, \n",
    "    reducer, \n",
    "    'result1'\n",
    ")"
   ]
  },
  {
   "cell_type": "code",
   "execution_count": 51,
   "metadata": {},
   "outputs": [
    {
     "name": "stdout",
     "output_type": "stream",
     "text": [
      "{'_id': 'blue', 'value': 3.0}\n",
      "{'_id': 'blue-gray', 'value': 1.0}\n",
      "{'_id': 'brown', 'value': 2.0}\n",
      "{'_id': 'red', 'value': 2.0}\n",
      "{'_id': 'yellow', 'value': 2.0}\n"
     ]
    }
   ],
   "source": [
    "for doc in result.find():\n",
    "    pprint(doc)"
   ]
  },
  {
   "cell_type": "markdown",
   "metadata": {},
   "source": [
    "The output is also stored in the `result1` collection we specified."
   ]
  },
  {
   "cell_type": "code",
   "execution_count": 52,
   "metadata": {},
   "outputs": [
    {
     "data": {
      "text/plain": [
       "[{'_id': 'blue', 'value': 3.0},\n",
       " {'_id': 'blue-gray', 'value': 1.0},\n",
       " {'_id': 'brown', 'value': 2.0},\n",
       " {'_id': 'red', 'value': 2.0},\n",
       " {'_id': 'yellow', 'value': 2.0}]"
      ]
     },
     "execution_count": 52,
     "metadata": {},
     "output_type": "execute_result"
    }
   ],
   "source": [
    "list(db.result1.find())"
   ]
  },
  {
   "cell_type": "markdown",
   "metadata": {},
   "source": [
    "Using JavaScript Array functions to simplify code."
   ]
  },
  {
   "cell_type": "code",
   "execution_count": 53,
   "metadata": {},
   "outputs": [],
   "source": [
    "mapper = Code('''\n",
    "function() {\n",
    "    emit(this.eye_color, 1);\n",
    "}\n",
    "''')\n",
    "\n",
    "reducer = Code('''\n",
    "function (key, values) {\n",
    "    return Array.sum(values);\n",
    "}\n",
    "''')\n",
    "\n",
    "result = people.map_reduce(\n",
    "    mapper, \n",
    "    reducer, \n",
    "    'result2'\n",
    ")"
   ]
  },
  {
   "cell_type": "code",
   "execution_count": 54,
   "metadata": {},
   "outputs": [
    {
     "name": "stdout",
     "output_type": "stream",
     "text": [
      "{'_id': 'blue', 'value': 3.0}\n",
      "{'_id': 'blue-gray', 'value': 1.0}\n",
      "{'_id': 'brown', 'value': 2.0}\n",
      "{'_id': 'red', 'value': 2.0}\n",
      "{'_id': 'yellow', 'value': 2.0}\n"
     ]
    }
   ],
   "source": [
    "for doc in result.find():\n",
    "    pprint(doc)"
   ]
  },
  {
   "cell_type": "markdown",
   "metadata": {},
   "source": [
    "Find avergae mass by gender."
   ]
  },
  {
   "cell_type": "code",
   "execution_count": 55,
   "metadata": {},
   "outputs": [],
   "source": [
    "mapper = Code('''\n",
    "function() {\n",
    "    emit(this.gender, this.mass);\n",
    "}\n",
    "''')\n",
    "\n",
    "reducer = Code('''\n",
    "function (key, values) {\n",
    "    return Array.avg(values);\n",
    "}\n",
    "''')\n",
    "\n",
    "result = people.map_reduce(\n",
    "    mapper, \n",
    "    reducer, \n",
    "    'result3'\n",
    ")"
   ]
  },
  {
   "cell_type": "code",
   "execution_count": 56,
   "metadata": {},
   "outputs": [
    {
     "name": "stdout",
     "output_type": "stream",
     "text": [
      "{'_id': 'female', 'value': 62.0}\n",
      "{'_id': 'male', 'value': 98.8}\n",
      "{'_id': 'n/a', 'value': 46.333333333333336}\n"
     ]
    }
   ],
   "source": [
    "for doc in result.find():\n",
    "    pprint(doc)"
   ]
  },
  {
   "cell_type": "markdown",
   "metadata": {},
   "source": [
    "Count number of members in each species"
   ]
  },
  {
   "cell_type": "code",
   "execution_count": 57,
   "metadata": {},
   "outputs": [],
   "source": [
    "mapper = Code('''\n",
    "function() {\n",
    "    this.species.map(function(z) {\n",
    "      emit(z.name, 1);\n",
    "    })\n",
    "}\n",
    "''')\n",
    "\n",
    "reducer = Code('''\n",
    "function (key, values) {\n",
    "    return Array.sum(values);\n",
    "}\n",
    "''')\n",
    "\n",
    "result = people.map_reduce(\n",
    "    mapper, \n",
    "    reducer, \n",
    "    'result3'\n",
    ")"
   ]
  },
  {
   "cell_type": "code",
   "execution_count": 58,
   "metadata": {},
   "outputs": [
    {
     "name": "stdout",
     "output_type": "stream",
     "text": [
      "{'_id': None, 'value': 3.0}\n"
     ]
    }
   ],
   "source": [
    "for doc in result.find():\n",
    "    pprint(doc)"
   ]
  },
  {
   "cell_type": "markdown",
   "metadata": {},
   "source": [
    "#### Using the `aggregate` method\n",
    "\n",
    "See if you can convert the above MapReduce queries to `aggregate` method calls. An example is provided."
   ]
  },
  {
   "cell_type": "code",
   "execution_count": 59,
   "metadata": {},
   "outputs": [],
   "source": [
    "cmds = [\n",
    "    {\n",
    "         '$group': {\n",
    "             '_id': '$eye_color',\n",
    "             'count': {'$sum': 1},\n",
    "         },\n",
    "     },\n",
    "     {\n",
    "        '$sort': { \n",
    "            '_id': 1\n",
    "        }\n",
    "     }\n",
    "]"
   ]
  },
  {
   "cell_type": "code",
   "execution_count": 60,
   "metadata": {
    "scrolled": false
   },
   "outputs": [
    {
     "name": "stdout",
     "output_type": "stream",
     "text": [
      "{'_id': 'blue', 'count': 3}\n",
      "{'_id': 'blue-gray', 'count': 1}\n",
      "{'_id': 'brown', 'count': 2}\n",
      "{'_id': 'red', 'count': 2}\n",
      "{'_id': 'yellow', 'count': 2}\n"
     ]
    }
   ],
   "source": [
    "for p in people.aggregate(cmds):\n",
    "    pprint(p)"
   ]
  },
  {
   "cell_type": "markdown",
   "metadata": {},
   "source": [
    "## Geospatial queries\n",
    "\n",
    "You specify queries using [GeoJSON Objects](https://docs.mongodb.com/manual/reference/geojson/)\n",
    "\n",
    "- Point\n",
    "- LineString\n",
    "- Polygon\n",
    "- MultiPoint\n",
    "- MultiLineString\n",
    "- MultiPolygon\n",
    "- GeometryCollection"
   ]
  },
  {
   "cell_type": "code",
   "execution_count": 61,
   "metadata": {},
   "outputs": [],
   "source": [
    "crime = db.crime"
   ]
  },
  {
   "cell_type": "code",
   "execution_count": 62,
   "metadata": {},
   "outputs": [],
   "source": [
    "import json"
   ]
  },
  {
   "cell_type": "code",
   "execution_count": 63,
   "metadata": {},
   "outputs": [],
   "source": [
    "path = 'data/crime-mapping.geojson'\n",
    "\n",
    "with open(path) as f:\n",
    "    datastore = json.load(f)"
   ]
  },
  {
   "cell_type": "code",
   "execution_count": 64,
   "metadata": {},
   "outputs": [],
   "source": [
    "results = crime.insert_many(datastore['features'])"
   ]
  },
  {
   "cell_type": "code",
   "execution_count": 65,
   "metadata": {},
   "outputs": [
    {
     "data": {
      "text/plain": [
       "{'_id': ObjectId('5f5f8fa52324e433baa62a7a'),\n",
       " 'geometry': {'type': 'Point', 'coordinates': [-78.78200313, 35.760212065]},\n",
       " 'type': 'Feature',\n",
       " 'properties': {'ucr': '2650',\n",
       "  'domestic': 'N',\n",
       "  'period': ['Everything', 'Last Year'],\n",
       "  'street': 'KILDAIRE FARM RD',\n",
       "  'radio': 'Everything,Last Year',\n",
       "  'time_to': -62135553600,\n",
       "  'crime_type': 'ALL OTHER - ESCAPE FROM CUSTODY OR RESIST ARREST',\n",
       "  'district': 'D3',\n",
       "  'phxrecordstatus': None,\n",
       "  'lon': -78.78200313,\n",
       "  'timeframe': ['Last Year'],\n",
       "  'crimeday': 'THURSDAY',\n",
       "  'phxstatus': None,\n",
       "  'location_category': 'TOWN OWNED',\n",
       "  'violentproperty': 'All Other',\n",
       "  'residential_subdivision': 'SHOPPES OF KILDAIRE',\n",
       "  'offensecategory': 'All Other Offenses',\n",
       "  'chrgcnt': None,\n",
       "  'time_from': -62135553600,\n",
       "  'map_reference': 'P027',\n",
       "  'date_to': '11/30/2017',\n",
       "  'lat': 35.760212065,\n",
       "  'phxcommunity': 'No',\n",
       "  'crime_category': 'ALL OTHER',\n",
       "  'activity_date': None,\n",
       "  'beat_number': '112',\n",
       "  'record': 3145,\n",
       "  'incident_number': '17010528',\n",
       "  'apartment_complex': None,\n",
       "  'date_from': '2017-11-30'}}"
      ]
     },
     "execution_count": 65,
     "metadata": {},
     "output_type": "execute_result"
    }
   ],
   "source": [
    "crime.find_one({})"
   ]
  },
  {
   "cell_type": "code",
   "execution_count": 66,
   "metadata": {},
   "outputs": [
    {
     "data": {
      "text/plain": [
       "{'geometry': {'type': 'Point', 'coordinates': [-78.78200313, 35.760212065]}}"
      ]
     },
     "execution_count": 66,
     "metadata": {},
     "output_type": "execute_result"
    }
   ],
   "source": [
    "crime.find_one({},\n",
    "              {\n",
    "                  'geometry': 1,\n",
    "                  '_id': 0,\n",
    "              }\n",
    "              )"
   ]
  },
  {
   "cell_type": "code",
   "execution_count": 67,
   "metadata": {},
   "outputs": [
    {
     "data": {
      "text/plain": [
       "'geometry_2dsphere'"
      ]
     },
     "execution_count": 67,
     "metadata": {},
     "output_type": "execute_result"
    }
   ],
   "source": [
    "crime.create_index([('geometry', GEOSPHERE)])"
   ]
  },
  {
   "cell_type": "markdown",
   "metadata": {},
   "source": [
    "List 5 crimes near the location"
   ]
  },
  {
   "cell_type": "code",
   "execution_count": 68,
   "metadata": {
    "scrolled": false
   },
   "outputs": [
    {
     "name": "stdout",
     "output_type": "stream",
     "text": [
      "{'properties': {'crime_type': 'ALL OTHER - ESCAPE FROM CUSTODY OR RESIST '\n",
      "                              'ARREST',\n",
      "                'date_from': '2017-11-30'}}\n",
      "{'properties': {'crime_type': 'LARCENY - AUTO PARTS OR ACCESSORIES',\n",
      "                'date_from': '2018-03-20'}}\n",
      "{'properties': {'crime_type': 'COUNTERFEITING - USING',\n",
      "                'date_from': '2018-08-05'}}\n",
      "{'properties': {'crime_type': 'DRUGS - DRUG VIOLATIONS '\n",
      "                              '(POSS./SELL/MAN./DEL./TRNSPRT/CULT.)',\n",
      "                'date_from': '2017-11-30'}}\n",
      "{'properties': {'crime_type': 'VANDALISM - DAMAGE TO PROPERTY',\n",
      "                'date_from': '2018-03-26'}}\n"
     ]
    }
   ],
   "source": [
    "loc = SON([('type', 'Point'), ('coordinates', [-78.78200313, 35.760212065])])\n",
    "\n",
    "for doc in crime.find(\n",
    "    {\n",
    "        'geometry' : SON([('$near', {'$geometry' : loc})])\n",
    "    },\n",
    "    {\n",
    "        '_id': 0,\n",
    "        'properties.crime_type': 1,\n",
    "        'properties.date_from': 1\n",
    "    }\n",
    ").limit(5):\n",
    "    pprint(doc)"
   ]
  },
  {
   "cell_type": "markdown",
   "metadata": {},
   "source": [
    "List crimes committed nearby (within 200 m)"
   ]
  },
  {
   "cell_type": "code",
   "execution_count": 69,
   "metadata": {
    "scrolled": false
   },
   "outputs": [
    {
     "name": "stdout",
     "output_type": "stream",
     "text": [
      "{'geometry': {'coordinates': [-78.78102423, 35.7607323]},\n",
      " 'properties': {'crime_type': 'ASSAULT - SIMPLE - ALL OTHER',\n",
      "                'date_from': '2018-02-14'}}\n",
      "{'geometry': {'coordinates': [-78.78131931, 35.761138061]},\n",
      " 'properties': {'crime_type': 'VANDALISM - GRAFFITI',\n",
      "                'date_from': '2018-07-20'}}\n",
      "{'geometry': {'coordinates': [-78.7827814, 35.759087052]},\n",
      " 'properties': {'crime_type': 'VANDALISM - GRAFFITI',\n",
      "                'date_from': '2018-07-29'}}\n"
     ]
    }
   ],
   "source": [
    "loc = SON([('type', 'Point'), ('coordinates', [-78.78200313, 35.760212065])])\n",
    "\n",
    "for doc in crime.find(\n",
    "    {\n",
    "        'geometry' : SON([('$geoNear', {'$geometry' : loc, '$minDistance': 1e-6, '$maxDistance': 200})]),\n",
    "    },\n",
    "    {\n",
    "        '_id': 0,\n",
    "        'geometry.coordinates': 1,\n",
    "        'properties.crime_type': 1,\n",
    "        'properties.date_from': 1\n",
    "    }\n",
    "):\n",
    "    pprint(doc)"
   ]
  },
  {
   "cell_type": "markdown",
   "metadata": {},
   "source": [
    "## Indexes\n",
    "\n",
    "Just as with relational databases, you can add indexes to speed up search. Note that while reads become faster, writes become slower. There is always a trade-off."
   ]
  },
  {
   "cell_type": "code",
   "execution_count": 70,
   "metadata": {},
   "outputs": [
    {
     "data": {
      "text/plain": [
       "<bound method Cursor.explain of <pymongo.cursor.Cursor object at 0x113936370>>"
      ]
     },
     "execution_count": 70,
     "metadata": {},
     "output_type": "execute_result"
    }
   ],
   "source": [
    "people.find({}).explain"
   ]
  },
  {
   "cell_type": "code",
   "execution_count": 71,
   "metadata": {},
   "outputs": [
    {
     "data": {
      "text/plain": [
       "{'queryPlanner': {'plannerVersion': 1,\n",
       "  'namespace': 'starwars.people',\n",
       "  'indexFilterSet': False,\n",
       "  'parsedQuery': {'name': {'$eq': 'Luke Skywalker'}},\n",
       "  'winningPlan': {'stage': 'COLLSCAN',\n",
       "   'filter': {'name': {'$eq': 'Luke Skywalker'}},\n",
       "   'direction': 'forward'},\n",
       "  'rejectedPlans': []},\n",
       " 'executionStats': {'executionSuccess': True,\n",
       "  'nReturned': 1,\n",
       "  'executionTimeMillis': 0,\n",
       "  'totalKeysExamined': 0,\n",
       "  'totalDocsExamined': 10,\n",
       "  'executionStages': {'stage': 'COLLSCAN',\n",
       "   'filter': {'name': {'$eq': 'Luke Skywalker'}},\n",
       "   'nReturned': 1,\n",
       "   'executionTimeMillisEstimate': 0,\n",
       "   'works': 12,\n",
       "   'advanced': 1,\n",
       "   'needTime': 10,\n",
       "   'needYield': 0,\n",
       "   'saveState': 0,\n",
       "   'restoreState': 0,\n",
       "   'isEOF': 1,\n",
       "   'direction': 'forward',\n",
       "   'docsExamined': 10},\n",
       "  'allPlansExecution': []},\n",
       " 'serverInfo': {'host': 'Cliburns-MacBook-Pro.local',\n",
       "  'port': 27017,\n",
       "  'version': '4.2.3',\n",
       "  'gitVersion': '6874650b362138df74be53d366bbefc321ea32d4'},\n",
       " 'ok': 1.0}"
      ]
     },
     "execution_count": 71,
     "metadata": {},
     "output_type": "execute_result"
    }
   ],
   "source": [
    "people.find({'name': 'Luke Skywalker'}).explain()"
   ]
  },
  {
   "cell_type": "code",
   "execution_count": 72,
   "metadata": {},
   "outputs": [
    {
     "data": {
      "text/plain": [
       "'name_1'"
      ]
     },
     "execution_count": 72,
     "metadata": {},
     "output_type": "execute_result"
    }
   ],
   "source": [
    "people.create_index('name')"
   ]
  },
  {
   "cell_type": "code",
   "execution_count": 73,
   "metadata": {
    "scrolled": true
   },
   "outputs": [
    {
     "data": {
      "text/plain": [
       "{'queryPlanner': {'plannerVersion': 1,\n",
       "  'namespace': 'starwars.people',\n",
       "  'indexFilterSet': False,\n",
       "  'parsedQuery': {'name': {'$eq': 'Luke Skywalker'}},\n",
       "  'winningPlan': {'stage': 'FETCH',\n",
       "   'inputStage': {'stage': 'IXSCAN',\n",
       "    'keyPattern': {'name': 1},\n",
       "    'indexName': 'name_1',\n",
       "    'isMultiKey': False,\n",
       "    'multiKeyPaths': {'name': []},\n",
       "    'isUnique': False,\n",
       "    'isSparse': False,\n",
       "    'isPartial': False,\n",
       "    'indexVersion': 2,\n",
       "    'direction': 'forward',\n",
       "    'indexBounds': {'name': ['[\"Luke Skywalker\", \"Luke Skywalker\"]']}}},\n",
       "  'rejectedPlans': []},\n",
       " 'executionStats': {'executionSuccess': True,\n",
       "  'nReturned': 1,\n",
       "  'executionTimeMillis': 1,\n",
       "  'totalKeysExamined': 1,\n",
       "  'totalDocsExamined': 1,\n",
       "  'executionStages': {'stage': 'FETCH',\n",
       "   'nReturned': 1,\n",
       "   'executionTimeMillisEstimate': 0,\n",
       "   'works': 2,\n",
       "   'advanced': 1,\n",
       "   'needTime': 0,\n",
       "   'needYield': 0,\n",
       "   'saveState': 0,\n",
       "   'restoreState': 0,\n",
       "   'isEOF': 1,\n",
       "   'docsExamined': 1,\n",
       "   'alreadyHasObj': 0,\n",
       "   'inputStage': {'stage': 'IXSCAN',\n",
       "    'nReturned': 1,\n",
       "    'executionTimeMillisEstimate': 0,\n",
       "    'works': 2,\n",
       "    'advanced': 1,\n",
       "    'needTime': 0,\n",
       "    'needYield': 0,\n",
       "    'saveState': 0,\n",
       "    'restoreState': 0,\n",
       "    'isEOF': 1,\n",
       "    'keyPattern': {'name': 1},\n",
       "    'indexName': 'name_1',\n",
       "    'isMultiKey': False,\n",
       "    'multiKeyPaths': {'name': []},\n",
       "    'isUnique': False,\n",
       "    'isSparse': False,\n",
       "    'isPartial': False,\n",
       "    'indexVersion': 2,\n",
       "    'direction': 'forward',\n",
       "    'indexBounds': {'name': ['[\"Luke Skywalker\", \"Luke Skywalker\"]']},\n",
       "    'keysExamined': 1,\n",
       "    'seeks': 1,\n",
       "    'dupsTested': 0,\n",
       "    'dupsDropped': 0}},\n",
       "  'allPlansExecution': []},\n",
       " 'serverInfo': {'host': 'Cliburns-MacBook-Pro.local',\n",
       "  'port': 27017,\n",
       "  'version': '4.2.3',\n",
       "  'gitVersion': '6874650b362138df74be53d366bbefc321ea32d4'},\n",
       " 'ok': 1.0}"
      ]
     },
     "execution_count": 73,
     "metadata": {},
     "output_type": "execute_result"
    }
   ],
   "source": [
    "people.find({'name': 'Luke Skywalker'}).explain()"
   ]
  }
 ],
 "metadata": {
  "kernelspec": {
   "display_name": "Python 3",
   "language": "python",
   "name": "python3"
  },
  "language_info": {
   "codemirror_mode": {
    "name": "ipython",
    "version": 3
   },
   "file_extension": ".py",
   "mimetype": "text/x-python",
   "name": "python",
   "nbconvert_exporter": "python",
   "pygments_lexer": "ipython3",
   "version": "3.8.5"
  }
 },
 "nbformat": 4,
 "nbformat_minor": 2
}
