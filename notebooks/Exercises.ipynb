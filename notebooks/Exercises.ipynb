{
 "cells": [
  {
   "cell_type": "code",
   "execution_count": 5,
   "metadata": {},
   "outputs": [
    {
     "name": "stdout",
     "output_type": "stream",
     "text": [
      "3 4 5\n",
      "5 12 13\n",
      "6 8 10\n",
      "7 24 25\n",
      "8 15 17\n",
      "9 12 15\n",
      "9 40 41\n",
      "10 24 26\n",
      "12 16 20\n",
      "12 35 37\n",
      "15 20 25\n",
      "15 36 39\n",
      "16 30 34\n",
      "18 24 30\n",
      "20 21 29\n",
      "21 28 35\n",
      "24 32 40\n"
     ]
    }
   ],
   "source": [
    "import math\n",
    "\n",
    "for a in range(1, 101):\n",
    "    for b in range(a, 101):\n",
    "        c = math.sqrt(a**2 + b**2)\n",
    "        if c.is_integer() and sum([a, b, c]) < 100:\n",
    "            print(a, b, int(c))"
   ]
  },
  {
   "cell_type": "code",
   "execution_count": 8,
   "metadata": {},
   "outputs": [
    {
     "data": {
      "text/plain": [
       "1944"
      ]
     },
     "execution_count": 8,
     "metadata": {},
     "output_type": "execute_result"
    }
   ],
   "source": [
    "len([i for i in range(100, 1000000) if str(i) == str(i)[::-1] and len(set(str(i))) > 1])"
   ]
  },
  {
   "cell_type": "code",
   "execution_count": null,
   "metadata": {},
   "outputs": [],
   "source": [
    "import se"
   ]
  }
 ],
 "metadata": {
  "kernelspec": {
   "display_name": "Python 3",
   "language": "python",
   "name": "python3"
  },
  "language_info": {
   "codemirror_mode": {
    "name": "ipython",
    "version": 3
   },
   "file_extension": ".py",
   "mimetype": "text/x-python",
   "name": "python",
   "nbconvert_exporter": "python",
   "pygments_lexer": "ipython3",
   "version": "3.7.7"
  }
 },
 "nbformat": 4,
 "nbformat_minor": 2
}
