{
 "cells": [
  {
   "cell_type": "markdown",
   "metadata": {},
   "source": [
    "Ex. 1\n",
    "\n",
    "- Read the file `wnv_human_cases.csv` as a `pandas` DataFrame\n",
    "- Add up the positive cases for each year\n",
    "- Find the week in the year when there are the highest average cases of West Nile virus reported\n",
    "- Which county reported the highest number of cases in that week and what year did it happen?\n",
    "- Plot the orignal data and a rolling average with window length of 3 and minimum period of 1 on the same plot"
   ]
  },
  {
   "cell_type": "code",
   "execution_count": null,
   "metadata": {},
   "outputs": [],
   "source": []
  },
  {
   "cell_type": "markdown",
   "metadata": {},
   "source": [
    "Ex. 2 \n",
    "\n",
    "- Create a `pandas` DataFrame from the data in `yuck.csv`\n",
    "- When done, your DataFame should look like the one in `less_yuck.csv`"
   ]
  },
  {
   "cell_type": "code",
   "execution_count": null,
   "metadata": {},
   "outputs": [],
   "source": []
  },
  {
   "cell_type": "markdown",
   "metadata": {},
   "source": [
    "Ex. 3\n",
    "\n",
    "- Create a `pnadas` DataFrame called `df` from the data set at https://bit.ly/2ksKr8f, taking care to only read in the `time` and `value` columns. (5 points)\n",
    "- Fill all rows with missing values with the value from the last non-missing value (i.e. forward fill) (5 points)\n",
    "- Convert to a `pandas` Series `s` using `time` as the index (5 points)\n",
    "- Create a new series `s1` with the rolling average using a shifting window of size 7 and a minimum period of 1 (5 points)\n",
    "- Report the `time` and value for the largest rolling average (5 points)"
   ]
  },
  {
   "cell_type": "code",
   "execution_count": null,
   "metadata": {},
   "outputs": [],
   "source": []
  },
  {
   "cell_type": "markdown",
   "metadata": {},
   "source": [
    "Ex. 4\n",
    "\n",
    "Given the DataFrame `df`, recreate the correlation plot shown using `seaborn`. Note the color mapping is `viridis`."
   ]
  },
  {
   "cell_type": "code",
   "execution_count": null,
   "metadata": {},
   "outputs": [],
   "source": [
    "import numpy as np\n",
    "import string\n",
    "\n",
    "np.random.seed(123)\n",
    "nrows = 10\n",
    "ncols = 10\n",
    "k = 6\n",
    "xs = np.random.normal(0, 1, (nrows, ncols))\n",
    "names = [''.join(np.random.choice(list(string.ascii_lowercase), k)) for i in range(10)]\n",
    "df = pd.DataFrame(xs, columns=names)\n",
    "df\n",
    "\n",
    "from IPython.display import Image\n",
    "Image('corrplot.png')"
   ]
  },
  {
   "cell_type": "code",
   "execution_count": null,
   "metadata": {},
   "outputs": [],
   "source": []
  }
 ],
 "metadata": {
  "kernelspec": {
   "display_name": "Python 3",
   "language": "python",
   "name": "python3"
  },
  "language_info": {
   "codemirror_mode": {
    "name": "ipython",
    "version": 3
   },
   "file_extension": ".py",
   "mimetype": "text/x-python",
   "name": "python",
   "nbconvert_exporter": "python",
   "pygments_lexer": "ipython3",
   "version": "3.8.5"
  }
 },
 "nbformat": 4,
 "nbformat_minor": 4
}
