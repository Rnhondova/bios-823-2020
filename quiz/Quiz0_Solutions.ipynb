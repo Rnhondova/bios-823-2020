{
 "cells": [
  {
   "cell_type": "markdown",
   "metadata": {},
   "source": [
    "**Note**: There are multiple ways to solve these problems in SQL. Your solution may be quite different from mine and still be correct."
   ]
  },
  {
   "cell_type": "markdown",
   "metadata": {},
   "source": [
    "**1**. Connect to the SQLite3 database at `data/faculty.db` in the `notebooks` folder using the `sqlite` package or `ipython-sql` magic functions. Inspect the `sql` creation statement for each tables so you know their structure."
   ]
  },
  {
   "cell_type": "code",
   "execution_count": null,
   "metadata": {},
   "outputs": [],
   "source": [
    "%load_ext sql"
   ]
  },
  {
   "cell_type": "code",
   "execution_count": null,
   "metadata": {},
   "outputs": [],
   "source": [
    "%sql sqlite:///../notebooks/data/faculty.db"
   ]
  },
  {
   "cell_type": "code",
   "execution_count": null,
   "metadata": {},
   "outputs": [],
   "source": [
    "%%sql\n",
    "\n",
    "SELECT sql FROM sqlite_master WHERE type='table';"
   ]
  },
  {
   "cell_type": "markdown",
   "metadata": {},
   "source": [
    "2. Find the youngest and oldest faculty member(s) of each gender."
   ]
  },
  {
   "cell_type": "code",
   "execution_count": null,
   "metadata": {},
   "outputs": [],
   "source": [
    "%%sql\n",
    "\n",
    "SELECT min(age), max(age) FROM person"
   ]
  },
  {
   "cell_type": "code",
   "execution_count": null,
   "metadata": {},
   "outputs": [],
   "source": [
    "%%sql\n",
    "\n",
    "SELECT first, last, age, gender\n",
    "FROM person \n",
    "INNER JOIN gender \n",
    "    ON person.gender_id = gender.gender_id\n",
    "WHERE age IN (SELECT min(age) FROM person) AND gender = 'Male'\n",
    "UNION\n",
    "SELECT first, last, age, gender\n",
    "FROM person \n",
    "INNER JOIN gender \n",
    "    ON person.gender_id = gender.gender_id\n",
    "WHERE age IN (SELECT min(age) FROM person) AND gender = 'Female'\n",
    "UNION\n",
    "SELECT first, last, age, gender\n",
    "FROM person \n",
    "INNER JOIN gender \n",
    "    ON person.gender_id = gender.gender_id\n",
    "WHERE age IN (SELECT max(age) FROM person) AND gender = 'Male'\n",
    "UNION\n",
    "SELECT first, last, age, gender\n",
    "FROM person \n",
    "INNER JOIN gender \n",
    "    ON person.gender_id = gender.gender_id\n",
    "WHERE age IN (SELECT max(age) FROM person) AND gender = 'Female'\n",
    "LIMIT 10"
   ]
  },
  {
   "cell_type": "markdown",
   "metadata": {},
   "source": [
    "3. Find the median age of the faculty members who know Python.\n",
    "\n",
    "As SQLite3 does not provide a median function, you can create a User Defined Function (UDF) to do this. See [documentation](https://docs.python.org/2/library/sqlite3.html#sqlite3.Connection.create_function)."
   ]
  },
  {
   "cell_type": "code",
   "execution_count": null,
   "metadata": {},
   "outputs": [],
   "source": [
    "import statistics"
   ]
  },
  {
   "cell_type": "code",
   "execution_count": null,
   "metadata": {},
   "outputs": [],
   "source": [
    "class Median:\n",
    "    def __init__(self):\n",
    "        self.acc = []\n",
    "\n",
    "    def step(self, value):\n",
    "        self.acc.append(value)\n",
    "\n",
    "    def finalize(self):\n",
    "        return statistics.median(self.acc)"
   ]
  },
  {
   "cell_type": "code",
   "execution_count": null,
   "metadata": {},
   "outputs": [],
   "source": [
    "import sqlite3\n",
    "con = sqlite3.connect('../notebooks/data/faculty.db')\n",
    "con.create_aggregate(\"Median\", 1, Median)"
   ]
  },
  {
   "cell_type": "code",
   "execution_count": null,
   "metadata": {},
   "outputs": [],
   "source": [
    "cr = con.cursor()\n",
    "cr.execute('SELECT median(age) FROM person')\n",
    "cr.fetchall()"
   ]
  },
  {
   "cell_type": "markdown",
   "metadata": {},
   "source": [
    "4. Arrange countries by the average age of faculty in descending order. Countries are only included in the table if there are at least 3 faculty members from that country."
   ]
  },
  {
   "cell_type": "code",
   "execution_count": null,
   "metadata": {},
   "outputs": [],
   "source": [
    "%%sql\n",
    "\n",
    "SELECT country, count(country), avg(age)\n",
    "FROM person\n",
    "INNER JOIN country\n",
    "    ON person.country_id = country.country_id\n",
    "GROUP BY country\n",
    "HAVING count(*) > 3\n",
    "ORDER BY age DESC\n",
    "LIMIT 3"
   ]
  },
  {
   "cell_type": "markdown",
   "metadata": {},
   "source": [
    "5. Which country has the highest average body mass index (BMII) among the faculty? Recall that BMI is weight (kg) / (height (m))^2."
   ]
  },
  {
   "cell_type": "code",
   "execution_count": null,
   "metadata": {},
   "outputs": [],
   "source": [
    "%%sql\n",
    "\n",
    "SELECT country, avg(weight / (height*height)) as avg_bmi\n",
    "FROM person\n",
    "INNER JOIN country\n",
    "    ON person.country_id = country.country_id\n",
    "GROUP BY country\n",
    "ORDER BY avg_bmi DESC\n",
    "LIMIT 3"
   ]
  },
  {
   "cell_type": "markdown",
   "metadata": {},
   "source": [
    "6. Do obese faculty (BMI > 30) know more languages on average than non-obese faculty?"
   ]
  },
  {
   "cell_type": "code",
   "execution_count": null,
   "metadata": {},
   "outputs": [],
   "source": [
    "%%sql\n",
    "\n",
    "SELECT is_obese, avg(language)\n",
    "FROM (\n",
    "    SELECT \n",
    "        weight / (height*height) > 30 AS is_obese, \n",
    "        count(language_name) AS language\n",
    "    FROM person\n",
    "    INNER JOIN person_language\n",
    "        ON person.person_id = person_language.person_id\n",
    "    INNER JOIN language\n",
    "        ON person_language.language_id = language.language_id\n",
    "    GROUP BY person.person_id\n",
    ")\n",
    "GROUP BY is_obese"
   ]
  },
  {
   "cell_type": "code",
   "execution_count": null,
   "metadata": {},
   "outputs": [],
   "source": []
  }
 ],
 "metadata": {
  "kernelspec": {
   "display_name": "Python 3",
   "language": "python",
   "name": "python3"
  },
  "language_info": {
   "codemirror_mode": {
    "name": "ipython",
    "version": 3
   },
   "file_extension": ".py",
   "mimetype": "text/x-python",
   "name": "python",
   "nbconvert_exporter": "python",
   "pygments_lexer": "ipython3",
   "version": "3.8.5"
  }
 },
 "nbformat": 4,
 "nbformat_minor": 4
}
